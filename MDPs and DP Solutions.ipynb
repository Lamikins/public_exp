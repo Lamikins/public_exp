{
 "cells": [
  {
   "cell_type": "markdown",
   "metadata": {},
   "source": [
    "### Markov Decision Processes and Dynamic Programming solutions: policy evaluation, policy improvement, and policy iteration"
   ]
  },
  {
   "cell_type": "code",
   "execution_count": 1,
   "metadata": {
    "collapsed": true
   },
   "outputs": [],
   "source": [
    "import numpy as np\n",
    "import matplotlib.pyplot as plt\n",
    "from collections import defaultdict\n",
    "from matplotlib.collections import PatchCollection\n",
    "import matplotlib.lines as mlines\n",
    "import matplotlib.patches as mpatches\n",
    "%matplotlib inline"
   ]
  },
  {
   "cell_type": "code",
   "execution_count": 2,
   "metadata": {
    "collapsed": true
   },
   "outputs": [],
   "source": [
    "#4x4 Gridworld Setup from Sutton and Barto RL p92\n",
    "#An MDP is defined by a set of states, a set of actions, transition probabilities, and expected rewards\n",
    "num_states = 16\n",
    "nrows = 4\n",
    "ncols = 4\n",
    "# (0,0) (1,0) (2,0) (3,0)\n",
    "# (0,1) (1,1) (2,1) (3,1)\n",
    "# (0,2) (1,2) (2,2) (3,2)\n",
    "# (0,3) (1,3) (2,3) (3,3)\n",
    "\n",
    "num_actions = 4 # (0,1,2,3) = (left, right, up, down)\n",
    "actions = np.arange(num_actions)\n",
    "states = [[(i,j) for i in range(nrows)] for j in range(ncols)]\n",
    "states = [item for sublist in states for item in sublist]\n",
    "transition_model = defaultdict(int) #P(s_t+1 | s_t, a_t)\n",
    "rewards_model = defaultdict(lambda:-1)\n",
    "\n",
    "terminal_states = [(3,3),(0,0)]\n",
    "\n",
    "for i in range(nrows):\n",
    "    for j in range(ncols):\n",
    "        \n",
    "        if not( (i-1) < 0) :\n",
    "            transition_model[(i-1,j),(i,j),0] = 1\n",
    "        else:\n",
    "            transition_model[(i,j),(i,j),0] = 1\n",
    "            \n",
    "        if not( (i+1) >= ncols):\n",
    "            transition_model[(i+1,j),(i,j),1] = 1\n",
    "        else:\n",
    "            transition_model[(i,j),(i,j),1] = 1\n",
    "            \n",
    "        if not( (j-1) < 0):\n",
    "            transition_model[(i,j-1),(i,j),2] = 1\n",
    "        else:\n",
    "            transition_model[(i,j),(i,j),2] = 1\n",
    "            \n",
    "        if not( (j+1) >= nrows):\n",
    "            transition_model[(i,j+1),(i,j),3] = 1\n",
    "        else:\n",
    "            transition_model[(i,j),(i,j),3] = 1"
   ]
  },
  {
   "cell_type": "code",
   "execution_count": 3,
   "metadata": {
    "collapsed": true
   },
   "outputs": [],
   "source": [
    "#State is an input tuple (i,j)\n",
    "#We assume you can only go left, right, up, down.\n",
    "#Returns a list of possible future states\n",
    "def get_possible_states(state):\n",
    "    possible_states = [[state[0] - 1, state[1]],\n",
    "                       [state[0] + 1, state[1]],\n",
    "                       [state[0], state[1]-1],\n",
    "                       [state[0], state[1]+1]]\n",
    "    possible_states = np.array(possible_states)\n",
    "    #We index by only the states that don't go out of bounds\n",
    "    #possible_states = possible_states[np.sum( np.logical_and(possible_states >= 0,possible_states < nrows),axis=1) == 2]\n",
    "    #Or, for all states that go out of bounds we simply return that state itself\n",
    "    imat = np.logical_not(np.sum( np.logical_and(possible_states >= 0,possible_states < nrows),axis=1) == 2)\n",
    "    for i,b in enumerate(imat):\n",
    "        if b:\n",
    "            possible_states[i] = state\n",
    "    return possible_states.tolist()\n",
    "    \n",
    "#We return the possible state given a action.  For valid actions, we return the corresponding state\n",
    "#For actions that take the agent out of bounds, we return the state itself. This is because we can \n",
    "#take that action (eg the transition probability is not zero) but it will just return us to our original state\n",
    "#and give us a reward\n",
    "def get_possible_states_action(state, action):\n",
    "    #(0,1,2,3) = (left, right, up, down)\n",
    "    possible_state = np.copy(state).tolist()\n",
    "    if action == 0:\n",
    "        possible_state[0] -= 1\n",
    "    elif action == 1:\n",
    "        possible_state[0] += 1\n",
    "    elif action == 2:\n",
    "        possible_state[1] -= 1\n",
    "    elif action == 3:\n",
    "        possible_state[1] += 1\n",
    "        \n",
    "    if possible_state[0] < 0 or possible_state[0] >= 4:\n",
    "        possible_state[0] = state[0]\n",
    "    if possible_state[1] < 0 or possible_state[1] >= 4:\n",
    "        possible_state[1] = state[1]\n",
    "        \n",
    "    return tuple(possible_state)\n",
    "\n",
    "#Return a list of valid action-probability pairs given a state \n",
    "#policies should be mappings from states -> actions\n",
    "def get_actions(state, policy):\n",
    "    possible_actions = policy[state]\n",
    "    probs = np.ones_like(possible_actions) * 1/len(possible_actions)\n",
    "    return list(zip(possible_actions, probs))"
   ]
  },
  {
   "cell_type": "code",
   "execution_count": 4,
   "metadata": {
    "collapsed": true
   },
   "outputs": [],
   "source": [
    "def draw_policy(policy):\n",
    "    fig, ax = plt.subplots(figsize=(7,7))\n",
    "\n",
    "    cell_width = 5\n",
    "\n",
    "    ax.set_xlim(0,nrows*cell_width)\n",
    "    ax.set_ylim(0,ncols*cell_width)\n",
    "\n",
    "    patches = []\n",
    "    for i in range(nrows):\n",
    "        for j in range(ncols):\n",
    "            rect = mpatches.Rectangle((i*cell_width,j*cell_width),cell_width,cell_width)\n",
    "            patches.append(rect)\n",
    "\n",
    "    def draw_up_arrow(i,j,ax):\n",
    "        #top left is (0,0) so have to shift\n",
    "        ax.arrow(cell_width * i + cell_width/2, 0.5 + cell_width*(nrows - j - 1), 0, .5+cell_width/2, head_width=.6, head_length=.6, fc='k', ec='k', width=.1)\n",
    "\n",
    "    def draw_down_arrow(i,j,ax):\n",
    "        ax.arrow(cell_width * i + cell_width/2,\n",
    "                 cell_width*.8 + cell_width*(nrows - j - 1),\n",
    "                 0,\n",
    "                 -cell_width*.55,\n",
    "                 head_width=.6, head_length=.6, fc='k', ec='k', width=.1)\n",
    "\n",
    "    def draw_right_arrow(i,j,ax):\n",
    "        ax.arrow(cell_width * i + cell_width*.1,\n",
    "         cell_width/2+ cell_width*(nrows - j - 1),\n",
    "         cell_width*.65,\n",
    "         0,\n",
    "         head_width=.6, head_length=.6, fc='k', ec='k', width=.1) \n",
    "\n",
    "    def draw_left_arrow(i,j,ax):\n",
    "        ax.arrow(cell_width * i + cell_width*.9,\n",
    "             cell_width/2+ cell_width*(nrows - j - 1),\n",
    "             -cell_width*.7,\n",
    "             0,\n",
    "             head_width=.6, head_length=.6, fc='k', ec='k', width=.1)  \n",
    "\n",
    "    mactions = {0: draw_left_arrow, 1: draw_right_arrow, 2: draw_up_arrow, 3: draw_down_arrow}\n",
    "    \n",
    "    for state in policy.keys():\n",
    "        val = policy[state]\n",
    "        for v in val:\n",
    "            mactions[v](state[0], state[1],ax)\n",
    "\n",
    "    pc = PatchCollection(patches,edgecolor=\"black\",lw=5,cmap=plt.cm.hsv,alpha=1)\n",
    "    ax.add_collection(pc)\n",
    "    plt.axis(\"off\")\n",
    "    plt.show()"
   ]
  },
  {
   "cell_type": "code",
   "execution_count": 5,
   "metadata": {},
   "outputs": [
    {
     "name": "stdout",
     "output_type": "stream",
     "text": [
      "[(0, 1), (1, 1), (0, 0), (0, 2)]\n"
     ]
    }
   ],
   "source": [
    "state = (0,1)\n",
    "print([get_possible_states_action(state,i) for i in range(num_actions)])"
   ]
  },
  {
   "cell_type": "code",
   "execution_count": 6,
   "metadata": {
    "collapsed": true
   },
   "outputs": [],
   "source": [
    "#Policy evaluation: random policy full backup\n",
    "random_policy = defaultdict(list)\n",
    "\n",
    "for i in range(nrows):\n",
    "    for j in range(ncols):\n",
    "        if (i,j) not in terminal_states:\n",
    "            random_policy[(i,j)] = [0,1,2,3]\n",
    "\n",
    "def evaluate_policy(policy):\n",
    "    values_old = np.zeros((nrows,ncols))\n",
    "    values_new = np.zeros((nrows,ncols))\n",
    "\n",
    "    for k in range(1000):\n",
    "        for i in range(nrows):\n",
    "            for j in range(ncols):\n",
    "                current_state = (i,j)\n",
    "                #We don't update terminal state values\n",
    "                if current_state not in terminal_states:\n",
    "                    v = 0\n",
    "                    for action, prob in get_actions(current_state, policy):\n",
    "                        '''\n",
    "                        for possible_state in get_possible_states(current_state):\n",
    "                            itval = policy[current_state,action] * transition_model[tuple(possible_state), current_state, action] *\\\n",
    "                            (rewards_model[tuple(possible_state), current_state, action] + 1 * values_old[possible_state[0], possible_state[1]])\n",
    "                            print(current_state,possible_state,action,itval)\n",
    "                            v += itval \n",
    "                        '''\n",
    "                        possible_state = get_possible_states_action(current_state,action)\n",
    "                        itval = prob * transition_model[possible_state, current_state, action] *\\\n",
    "                        (rewards_model[possible_state, current_state, action] + 1 * values_old[possible_state[0], possible_state[1]])\n",
    "                        #print(current_state,possible_state,action,itval)\n",
    "                        v += itval\n",
    "\n",
    "                    values_new[i,j] = v\n",
    "\n",
    "        if np.sum(np.abs(values_old - values_new)) < 1e-10:\n",
    "            print(\"Converged after %d iterations\" % k)\n",
    "            break\n",
    "\n",
    "        values_old = np.copy(values_new)\n",
    "    return values_new"
   ]
  },
  {
   "cell_type": "code",
   "execution_count": 7,
   "metadata": {},
   "outputs": [
    {
     "name": "stdout",
     "output_type": "stream",
     "text": [
      "Converged after 469 iterations\n"
     ]
    },
    {
     "data": {
      "image/png": "[encoded data removed]",
      "text/plain": [
       "<matplotlib.figure.Figure at 0x7f25b3a6d2b0>"
      ]
     },
     "metadata": {},
     "output_type": "display_data"
    },
    {
     "data": {
      "text/plain": [
       "array([[  0., -14., -20., -22.],\n",
       "       [-14., -18., -20., -20.],\n",
       "       [-20., -20., -18., -14.],\n",
       "       [-22., -20., -14.,   0.]])"
      ]
     },
     "execution_count": 7,
     "metadata": {},
     "output_type": "execute_result"
    }
   ],
   "source": [
    "values = evaluate_policy(random_policy)\n",
    "draw_policy(random_policy)\n",
    "values"
   ]
  },
  {
   "cell_type": "code",
   "execution_count": 8,
   "metadata": {
    "collapsed": true
   },
   "outputs": [],
   "source": [
    "#Policy improvement\n",
    "#We can improve our random policy by selecting a new greedy policy\n",
    "#pi'(s) = argmax_a Q_pi(s,a) = argmax_a sum_s' p(s'|s,a) [r(s'|s,a) + V_pi(s')]\n",
    "\n",
    "def improve_policy(old_policy, values):\n",
    "    improved_policy = defaultdict(list)\n",
    "    for i in range(nrows):\n",
    "        for j in range(ncols):\n",
    "            current_state = (i,j)\n",
    "            if current_state not in terminal_states:\n",
    "                vals = {}\n",
    "\n",
    "                for action, prob in get_actions(current_state, old_policy):\n",
    "                    possible_state = get_possible_states_action(current_state, action)\n",
    "\n",
    "                    vals[action] = (transition_model[possible_state,current_state,action] *\\\n",
    "                                                              (rewards_model[possible_state, current_state, action] + values[possible_state[0], possible_state[1]]))\n",
    "\n",
    "                #improved_policy[current_state] = [np.argmax(vals)]\n",
    "                #This gets the dictionary get (for us, an action) with the highest q value\n",
    "                #print(current_state,vals)\n",
    "                improved_policy[current_state] =[ max(vals,key=vals.get)]\n",
    "    return improved_policy"
   ]
  },
  {
   "cell_type": "code",
   "execution_count": 9,
   "metadata": {},
   "outputs": [
    {
     "data": {
      "image/png": "[encoded data removed]",
      "text/plain": [
       "<matplotlib.figure.Figure at 0x7f25b19ecbe0>"
      ]
     },
     "metadata": {},
     "output_type": "display_data"
    },
    {
     "data": {
      "text/plain": [
       "defaultdict(list,\n",
       "            {(0, 1): [2],\n",
       "             (0, 2): [2],\n",
       "             (0, 3): [1],\n",
       "             (1, 0): [0],\n",
       "             (1, 1): [2],\n",
       "             (1, 2): [1],\n",
       "             (1, 3): [1],\n",
       "             (2, 0): [0],\n",
       "             (2, 1): [0],\n",
       "             (2, 2): [1],\n",
       "             (2, 3): [1],\n",
       "             (3, 0): [0],\n",
       "             (3, 1): [3],\n",
       "             (3, 2): [3]})"
      ]
     },
     "execution_count": 9,
     "metadata": {},
     "output_type": "execute_result"
    }
   ],
   "source": [
    "improved_policy = improve_policy(random_policy, values)\n",
    "draw_policy(improved_policy)\n",
    "improved_policy"
   ]
  },
  {
   "cell_type": "code",
   "execution_count": 10,
   "metadata": {},
   "outputs": [
    {
     "name": "stdout",
     "output_type": "stream",
     "text": [
      "Converged after 3 iterations\n"
     ]
    },
    {
     "data": {
      "text/plain": [
       "array([[ 0., -1., -2., -3.],\n",
       "       [-1., -2., -3., -2.],\n",
       "       [-2., -3., -2., -1.],\n",
       "       [-3., -2., -1.,  0.]])"
      ]
     },
     "execution_count": 10,
     "metadata": {},
     "output_type": "execute_result"
    }
   ],
   "source": [
    "#Clearly our new policy is much better!!\n",
    "evaluate_policy(improved_policy)"
   ]
  },
  {
   "cell_type": "code",
   "execution_count": 11,
   "metadata": {
    "collapsed": true
   },
   "outputs": [],
   "source": [
    "#Policy iteration\n",
    "#There's not much improvement in our current example, since we achieve optimal policy within 1 iteration, but this is just for theory.\n",
    "#We want to find optimal policy via Evaluate->Improve->Evaluate->Improve ... etc\n",
    "\n",
    "#We don't require input; start with random policy\n",
    "def iterate_policy():\n",
    "    random_policy = defaultdict(list)\n",
    "    for i in range(nrows):\n",
    "        for j in range(ncols):\n",
    "            if (i,j) not in terminal_states:\n",
    "                random_policy[(i,j)] = [0,1,2,3]\n",
    "                \n",
    "    policy_stable = False\n",
    "    current_policy = random_policy\n",
    "    while not policy_stable:\n",
    "        values = evaluate_policy(current_policy)\n",
    "        new_policy = improve_policy(current_policy,values)\n",
    "        \n",
    "        if new_policy == current_policy:\n",
    "            policy_stable = True\n",
    "        \n",
    "        current_policy = new_policy\n",
    "    \n",
    "    return current_policy"
   ]
  },
  {
   "cell_type": "code",
   "execution_count": 12,
   "metadata": {},
   "outputs": [
    {
     "name": "stdout",
     "output_type": "stream",
     "text": [
      "Converged after 469 iterations\n",
      "Converged after 3 iterations\n"
     ]
    },
    {
     "data": {
      "image/png": "[encoded data removed]",
      "text/plain": [
       "<matplotlib.figure.Figure at 0x7f25b1a10748>"
      ]
     },
     "metadata": {},
     "output_type": "display_data"
    }
   ],
   "source": [
    "p = iterate_policy()\n",
    "draw_policy(p)"
   ]
  },
  {
   "cell_type": "code",
   "execution_count": 13,
   "metadata": {
    "collapsed": true
   },
   "outputs": [],
   "source": [
    "#Value iteration\n",
    "#Instead of having to do this iterative thing of evaluate->improve, we can 'improve over time' all at once\n",
    "#We do this via value iteration: instead of updating each value at the next step based on the regular bellman equation, \n",
    "#we use the bellman optimality equation which includes a max instead of an expectaiton.\n",
    "\n",
    "def value_iteration():\n",
    "    values_old = np.zeros((nrows,ncols))\n",
    "    values_new = np.zeros((nrows,ncols))\n",
    "\n",
    "    for k in range(1000):\n",
    "        for i in range(nrows):\n",
    "            for j in range(ncols):\n",
    "                current_state = (i,j)\n",
    "                if current_state not in terminal_states:\n",
    "                    vals = []\n",
    "                    for action in range(num_actions):\n",
    "                        possible_state = get_possible_states_action(current_state,action)\n",
    "                        itval = transition_model[possible_state, current_state, action] *\\\n",
    "                        (rewards_model[possible_state, current_state, action] + 1 * values_old[possible_state[0], possible_state[1]])\n",
    "                        vals.append(itval)\n",
    "\n",
    "                    values_new[i,j] = np.max(vals)\n",
    "\n",
    "        if np.sum(np.abs(values_old - values_new)) < 1e-10:\n",
    "            print(\"Converged after %d iterations\" % k)\n",
    "            break\n",
    "        values_old = np.copy(values_new)\n",
    "\n",
    "    values = values_new\n",
    "\n",
    "    improved_policy = defaultdict(list)\n",
    "    for i in range(nrows):\n",
    "        for j in range(ncols):\n",
    "            current_state = (i,j)\n",
    "            if current_state not in terminal_states:\n",
    "                vals = {}\n",
    "\n",
    "                for action in range(num_actions):\n",
    "                    possible_state = get_possible_states_action(current_state, action)\n",
    "\n",
    "                    vals[action] = (transition_model[possible_state,current_state,action] *\\\n",
    "                                                              (rewards_model[possible_state, current_state, action] + values[possible_state[0], possible_state[1]]))\n",
    "\n",
    "                #improved_policy[current_state] = [np.argmax(vals)]\n",
    "                #This gets the dictionary get (for us, an action) with the highest q value\n",
    "                #print(current_state,vals)\n",
    "                improved_policy[current_state] =[ max(vals,key=vals.get)]\n",
    "                \n",
    "    return values, improved_policy"
   ]
  },
  {
   "cell_type": "code",
   "execution_count": 14,
   "metadata": {},
   "outputs": [
    {
     "name": "stdout",
     "output_type": "stream",
     "text": [
      "Converged after 3 iterations\n"
     ]
    }
   ],
   "source": [
    "v, p = value_iteration()"
   ]
  },
  {
   "cell_type": "code",
   "execution_count": 15,
   "metadata": {},
   "outputs": [
    {
     "data": {
      "image/png": "[encoded data removed]",
      "text/plain": [
       "<matplotlib.figure.Figure at 0x7f25b18de470>"
      ]
     },
     "metadata": {},
     "output_type": "display_data"
    }
   ],
   "source": [
    "draw_policy(p)"
   ]
  },
  {
   "cell_type": "code",
   "execution_count": null,
   "metadata": {
    "collapsed": true
   },
   "outputs": [],
   "source": []
  }
 ],
 "metadata": {
  "kernelspec": {
   "display_name": "Python 3",
   "language": "python",
   "name": "python3"
  },
  "language_info": {
   "codemirror_mode": {
    "name": "ipython",
    "version": 3
   },
   "file_extension": ".py",
   "mimetype": "text/x-python",
   "name": "python",
   "nbconvert_exporter": "python",
   "pygments_lexer": "ipython3",
   "version": "3.5.4"
  }
 },
 "nbformat": 4,
 "nbformat_minor": 2
}
