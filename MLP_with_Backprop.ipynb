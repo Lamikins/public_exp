{
 "cells": [
  {
   "cell_type": "code",
   "execution_count": 1,
   "metadata": {
    "collapsed": true
   },
   "outputs": [],
   "source": [
    "#MLP with generalized backprop\n",
    "import numpy as np\n",
    "import matplotlib.pyplot as plt\n",
    "import csv\n",
    "%matplotlib inline"
   ]
  },
  {
   "cell_type": "code",
   "execution_count": 11,
   "metadata": {
    "collapsed": true
   },
   "outputs": [],
   "source": [
    "class Layer:\n",
    "    \n",
    "    def __init__(self, params, input_layer):\n",
    "        self.input_layer = input_layer\n",
    "        self.params = params\n",
    "        #input is our input \n",
    "        self.val = None\n",
    "        self.grads = []\n",
    "        \n",
    "    def forward(self):\n",
    "        pass\n",
    "    \n",
    "    def bprop(self,z):\n",
    "        pass\n",
    "    \n",
    "    def get_params(self):\n",
    "        return self.params\n",
    "    \n",
    "    def get_value(self):\n",
    "        return self.val\n",
    "    \n",
    "    def update(self):\n",
    "        pass\n",
    "    \n",
    "    \n",
    "class Input(Layer):\n",
    "    def __init__(self,batch_size = 32):\n",
    "        self.bs = batch_size\n",
    "        self.params = []\n",
    "        self.val = None\n",
    "        self.input_layer = None\n",
    "        self.grads = []\n",
    "        self.k = 0\n",
    "        \n",
    "    def update_inputs(self,x):\n",
    "        self.val = x\n",
    "        \n",
    "    def forward(self):\n",
    "        if self.val is None:\n",
    "            raise ValueError(\"You have not specified an input!\")\n",
    "        return self.val\n",
    "    \n",
    "    def bprop(self):\n",
    "        return [1]\n",
    "    \n",
    "    \n",
    "    \n",
    "class Fully_Connected(Layer):\n",
    "    \n",
    "    def __init__(self, n_in, n_out, input_layer, w = None, b = None, l2_reg = False):\n",
    "        #For debugging, in case you want to specify a weight + bias\n",
    "        np.random.seed(314159265)\n",
    "        \n",
    "        if not w is None:\n",
    "            self.w = w\n",
    "        else:\n",
    "            self.w = np.random.randn(n_in,n_out) * np.sqrt(2. / n_in)\n",
    "        \n",
    "        if not b is None:\n",
    "            self.b = b\n",
    "        else:\n",
    "            self.b = np.random.randn(1,n_out) * np.sqrt(2. / n_in)\n",
    "            \n",
    "        self.l2_reg = l2_reg\n",
    "        \n",
    "        super().__init__([self.w, self.b], input_layer)\n",
    "        \n",
    "    def forward(self):\n",
    "        if not self.input_layer:\n",
    "            raise ValueError('There is no input!')\n",
    "            \n",
    "        #x should be NxM, N = number of examples, M = number of features\n",
    "        self.val = self.input_layer.get_value().dot(self.w) + self.b\n",
    "        return self.val\n",
    "    \n",
    "    def bprop(self,z):\n",
    "        #Since this is a feedforward layer, we want the gradients wrt three variables:\n",
    "        #Our input x, our weights w, and our biases b.\n",
    "        #We only need to return the partial wrt our input, and can save the rest for\n",
    "        #updating\n",
    "        \n",
    "        #da_i / dw_i = h_i-1.T * dL/da_i\n",
    "        self.grads = [self.input_layer.get_value().T.dot(z), np.sum(z,axis=0,keepdims=True)]\n",
    "        \n",
    "        if self.l2_reg:\n",
    "            global lamb\n",
    "            self.grads[0] -= 2 * lamb * self.w\n",
    "        \n",
    "        return z.dot(self.w.T)\n",
    "    \n",
    "    def update(self):\n",
    "        global learning_rate\n",
    "        self.w += learning_rate * self.grads[0]\n",
    "        self.b += learning_rate * self.grads[1]\n",
    "            \n",
    "    \n",
    "class Relu(Layer):\n",
    "    \n",
    "    def __init__(self, input_layer):\n",
    "        super().__init__([],input_layer)\n",
    "        \n",
    "    def relu(self,x):\n",
    "        return np.maximum(x,0)\n",
    "        \n",
    "    def forward(self):\n",
    "        if not self.input_layer:\n",
    "            raise ValueError('There is no input!')\n",
    "            \n",
    "        self.val = self.relu(self.input_layer.get_value())\n",
    "        return self.val\n",
    "    \n",
    "    def bprop(self,z):\n",
    "        return (self.input_layer.get_value() > 0) * 1. * z\n",
    "    \n",
    "\n",
    "class Softmax_with_Multiclass_Crossentropy(Layer):\n",
    "    \n",
    "    def __init__(self,input_layer):\n",
    "        selfy_true = None\n",
    "        super().__init__([],input_layer)\n",
    "        \n",
    "    def softmax(self,x):\n",
    "        return np.exp(x)  / np.sum(np.exp(x) , axis=1, keepdims=True)\n",
    "    \n",
    "    def update_gt(self, y_true):\n",
    "        #y_true should be a one-hot encoded vector\n",
    "        self.y_true = y_true\n",
    "    \n",
    "    def forward(self):\n",
    "        if not self.input_layer:\n",
    "            raise ValueError('There is no input!')\n",
    "            \n",
    "        self.y_pred = self.softmax(self.input_layer.get_value())\n",
    "        self.val = - np.multiply(self.y_true, np.log(self.y_pred)).mean()\n",
    "        return self.val\n",
    "    \n",
    "    def bprop(self,z=1):\n",
    "        #Usually the output layer, so dL/dL = 1 = z\n",
    "        return self.y_true - self.y_pred\n",
    "    \n",
    "    def get_probs(self):\n",
    "        if self.y_pred is None:\n",
    "            raise ValueError('You have not computed a probability matrix yet!')\n",
    "            \n",
    "        return self.y_pred\n",
    "    "
   ]
  },
  {
   "cell_type": "code",
   "execution_count": 12,
   "metadata": {
    "collapsed": true
   },
   "outputs": [],
   "source": [
    "def forward_propagate(layers):\n",
    "    act = []\n",
    "    for layer in layers:\n",
    "        act.append(layer.forward())\n",
    "    return act\n",
    "\n",
    "def back_propagate(layers):\n",
    "    grads = []\n",
    "    g_complete = []\n",
    "\n",
    "    #We use only the second to end layers, so as to avoid backpropagating through the input\n",
    "    for ind,layer in enumerate(reversed(layers[1:])):\n",
    "        if ind == 0:\n",
    "            grads.append(layer.bprop(z = 1))\n",
    "            g_complete.append(layer.bprop(z = 1))\n",
    "        else:\n",
    "            g = layer.bprop(grads.pop())\n",
    "            grads.append(g)\n",
    "            g_complete.append(g)\n",
    "            \n",
    "    return g_complete\n",
    "\n",
    "def update(layers):\n",
    "    for layer in layers:\n",
    "        layer.update()\n",
    "        "
   ]
  },
  {
   "cell_type": "code",
   "execution_count": null,
   "metadata": {
    "collapsed": true
   },
   "outputs": [],
   "source": []
  },
  {
   "cell_type": "code",
   "execution_count": 15,
   "metadata": {},
   "outputs": [],
   "source": [
    "#Requires mnist in CSV format.\n",
    "train_fp = 'mnist_train.csv'\n",
    "test_fp = 'mnist_test.csv'\n",
    "\n",
    "def open_file(fp):\n",
    "    with open(fp,'r') as f:\n",
    "        d = csv.reader(f)\n",
    "        d = np.array(list(d))\n",
    "        y = d[:,0]\n",
    "        x = d[:,1:]\n",
    "        y = y.astype(np.uint8)\n",
    "        \n",
    "        y_hot = np.zeros((y.shape[0],np.unique(y).shape[0]))\n",
    "        for i in np.unique(y):\n",
    "            y_hot[:,i][y == i] = 1\n",
    "        \n",
    "        x = x.astype(np.float32)\n",
    "        #We standardize our data\n",
    "        x = (x - np.mean(x,axis=1,keepdims=True)) / np.std(x,axis=1,keepdims=True)\n",
    "        return x,y_hot\n",
    "    return None\n",
    "\n",
    "def shuffle(x,y):\n",
    "    assert x.shape[0] == y.shape[0]\n",
    "    inds = np.random.permutation(np.arange(x.shape[0]))\n",
    "    return x[inds], y[inds]\n",
    "\n",
    "x_train, y_train = open_file(train_fp)\n",
    "x_test, y_test = open_file(test_fp)\n",
    "\n",
    "x_train, y_train = shuffle(x_train,y_train)\n",
    "x_test, y_test = shuffle(x_test, y_test)"
   ]
  },
  {
   "cell_type": "code",
   "execution_count": 16,
   "metadata": {},
   "outputs": [
    {
     "data": {
      "text/plain": [
       "<matplotlib.image.AxesImage at 0x7fe72d1b1208>"
      ]
     },
     "execution_count": 16,
     "metadata": {},
     "output_type": "execute_result"
    },
    {
     "data": {
      "image/png": "[encoded data removed]",
      "text/plain": [
       "<matplotlib.figure.Figure at 0x7fe72d1a1da0>"
      ]
     },
     "metadata": {},
     "output_type": "display_data"
    }
   ],
   "source": [
    "#Plot some images\n",
    "i = np.random.randint(0,100)\n",
    "plt.imshow(x_train[i].reshape((28,28)))"
   ]
  },
  {
   "cell_type": "code",
   "execution_count": 17,
   "metadata": {
    "collapsed": true
   },
   "outputs": [],
   "source": [
    "bs = 64\n",
    "\n",
    "layers = []\n",
    "layers.append(Input(batch_size=bs))\n",
    "layers.append(Fully_Connected(784,250,layers[-1]))\n",
    "layers.append(Relu(layers[-1]))\n",
    "layers.append(Fully_Connected(250,50,layers[-1]))\n",
    "layers.append(Relu(layers[-1]))\n",
    "layers.append(Fully_Connected(50,10,layers[-1]))\n",
    "layers.append(Softmax_with_Multiclass_Crossentropy(layers[-1]))\n"
   ]
  },
  {
   "cell_type": "code",
   "execution_count": 18,
   "metadata": {
    "scrolled": true
   },
   "outputs": [
    {
     "name": "stdout",
     "output_type": "stream",
     "text": [
      "Loss: 0.250068 | Val Acc: 0.170700 | Train Acc: 0.156250\n",
      "Loss: 0.031849 | Val Acc: 0.896800 | Train Acc: 0.906250\n",
      "Loss: 0.034475 | Val Acc: 0.917400 | Train Acc: 0.890625\n",
      "Loss: 0.013019 | Val Acc: 0.927700 | Train Acc: 0.968750\n",
      "Loss: 0.032925 | Val Acc: 0.935900 | Train Acc: 0.906250\n",
      "Loss: 0.012886 | Val Acc: 0.941000 | Train Acc: 0.968750\n",
      "Loss: 0.011377 | Val Acc: 0.945000 | Train Acc: 0.968750\n",
      "Loss: 0.010711 | Val Acc: 0.948400 | Train Acc: 0.953125\n",
      "Loss: 0.015578 | Val Acc: 0.951800 | Train Acc: 0.953125\n",
      "Loss: 0.013350 | Val Acc: 0.953300 | Train Acc: 0.968750\n",
      "Loss: 0.022860 | Val Acc: 0.953900 | Train Acc: 0.984375\n",
      "Loss: 0.013469 | Val Acc: 0.956900 | Train Acc: 0.968750\n",
      "Loss: 0.007834 | Val Acc: 0.958800 | Train Acc: 0.968750\n",
      "Loss: 0.006286 | Val Acc: 0.958900 | Train Acc: 0.984375\n",
      "Loss: 0.011389 | Val Acc: 0.960600 | Train Acc: 0.953125\n",
      "Loss: 0.012964 | Val Acc: 0.962400 | Train Acc: 0.968750\n",
      "Loss: 0.016590 | Val Acc: 0.963300 | Train Acc: 0.921875\n",
      "Loss: 0.007986 | Val Acc: 0.964200 | Train Acc: 0.953125\n",
      "Loss: 0.004978 | Val Acc: 0.964500 | Train Acc: 0.984375\n",
      "Loss: 0.009734 | Val Acc: 0.966500 | Train Acc: 0.984375\n"
     ]
    }
   ],
   "source": [
    "learning_rate = 1e-4\n",
    "lamb = 0\n",
    "iterations = 10000\n",
    "\n",
    "losses = [[],[],[],[]]\n",
    "k = 0\n",
    "for it in range(iterations):\n",
    "    if (k+1) * bs > x_train.shape[0]:\n",
    "        k = 0\n",
    "    \n",
    "    x_batch = x_train[k * bs: (k+1) * bs]\n",
    "    y_batch = y_train[k * bs: (k+1) * bs]\n",
    "    \n",
    "    #update input and output layers\n",
    "    layers[0].update_inputs(x_batch)\n",
    "    layers[-1].update_gt(y_batch)\n",
    "    \n",
    "    act = forward_propagate(layers)\n",
    "    g = back_propagate(layers)\n",
    "    update(layers)\n",
    "    \n",
    "    train_loss = act[-1]\n",
    "    \n",
    "    if it%500 == 0:\n",
    "        \n",
    "        y_train_preds = layers[-1].get_probs()\n",
    "        tp = np.argmax(y_train_preds,axis=1) == np.argmax(y_batch,axis=1)\n",
    "        train_acc = sum(tp) / len(tp)\n",
    "        \n",
    "        layers[0].update_inputs(x_test)\n",
    "        layers[-1].update_gt(y_test)\n",
    "        act = forward_propagate(layers)\n",
    "        y_val_preds = layers[-1].get_probs()\n",
    "        \n",
    "        tp = np.argmax(y_val_preds,axis=1) == np.argmax(y_test,axis=1)\n",
    "        val_acc =  sum(tp) / len(tp)\n",
    "        val_loss = act[-1]\n",
    "        \n",
    "        losses[0].append(val_acc)\n",
    "        losses[1].append(train_acc)\n",
    "        \n",
    "        losses[2].append(val_loss)\n",
    "        losses[3].append(train_loss)\n",
    "        \n",
    "        print(\"Loss: %f | Val Acc: %f | Train Acc: %f\" % (train_loss, val_acc, train_acc))\n",
    "    \n",
    "    k += 1"
   ]
  },
  {
   "cell_type": "code",
   "execution_count": 19,
   "metadata": {
    "collapsed": true
   },
   "outputs": [],
   "source": [
    "def visualize_losses(losses):\n",
    "    #Plot Accuracy Over Time\n",
    "    l1, = plt.plot(np.arange(len(losses[0])),losses[0])\n",
    "    l2, = plt.plot(np.arange(len(losses[1])),losses[1])\n",
    "    plt.legend([l1,l2],['Val Acc','Train Acc'])\n",
    "    plt.title('Accuracy over Time')\n",
    "    #plt.show()\n",
    "    #plt.savefig('aot.png',bbox_inches='tight')\n",
    "    plt.close()\n",
    "    \n",
    "    #Plot Loss Over Time\n",
    "    l1, = plt.plot(np.arange(len(losses[2])),losses[2])\n",
    "    l2, = plt.plot(np.arange(len(losses[3])),losses[3])\n",
    "    plt.legend([l1,l2],['Val Loss', 'Train Loss'])\n",
    "    plt.title('Crossentropy Loss Over Time')\n",
    "    #plt.savefig('lot.png',bbox_inches='tight')\n",
    "    #plt.show()"
   ]
  },
  {
   "cell_type": "code",
   "execution_count": 20,
   "metadata": {},
   "outputs": [
    {
     "data": {
      "image/png": "[encoded data removed]",
      "text/plain": [
       "<matplotlib.figure.Figure at 0x7fe72b100c50>"
      ]
     },
     "metadata": {},
     "output_type": "display_data"
    }
   ],
   "source": [
    "visualize_losses(losses)"
   ]
  },
  {
   "cell_type": "code",
   "execution_count": null,
   "metadata": {
    "collapsed": true
   },
   "outputs": [],
   "source": []
  }
 ],
 "metadata": {
  "kernelspec": {
   "display_name": "Python 3",
   "language": "python",
   "name": "python3"
  },
  "language_info": {
   "codemirror_mode": {
    "name": "ipython",
    "version": 3
   },
   "file_extension": ".py",
   "mimetype": "text/x-python",
   "name": "python",
   "nbconvert_exporter": "python",
   "pygments_lexer": "ipython3",
   "version": "3.5.4"
  }
 },
 "nbformat": 4,
 "nbformat_minor": 2
}
