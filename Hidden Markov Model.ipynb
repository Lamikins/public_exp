{
 "cells": [
  {
   "cell_type": "code",
   "execution_count": 67,
   "metadata": {
    "collapsed": true
   },
   "outputs": [],
   "source": [
    "#Hidden Markov Model inference and learning"
   ]
  },
  {
   "cell_type": "code",
   "execution_count": 68,
   "metadata": {
    "collapsed": true
   },
   "outputs": [],
   "source": [
    "#Casino Problem\n",
    "#We have a sequence of observations (1,2,3,4,5,6) which correspond to underlying states (Fair vs Biased die)\n",
    "import numpy as np\n",
    "import matplotlib.pyplot as plt\n",
    "%matplotlib inline"
   ]
  },
  {
   "cell_type": "code",
   "execution_count": 70,
   "metadata": {
    "collapsed": true
   },
   "outputs": [],
   "source": [
    "# Obs States: T, H = (0,1)\n",
    "# Underlying States: F, B = (0, 1)\n",
    "# Observation model p(x|z) => \n",
    "# Transition model p(z_{t} | z_{t-1}) => p(F | B) = .05, p(B | F) = .1, p(B | B) = .95, p(F | F) = .9\n",
    "#\n",
    "\n",
    "#Casino Problem\n",
    "obs_model = np.array([ 1/6, 1/6, 1/6, 1/6, 1/6, 1/6, 1/10,1/10,1/10,1/10,1/10,5/10 ]).reshape((2,-1))\n",
    "trans_model = np.array([[.95, .01], [.05, .99]])\n",
    "pi = [.5,.5]\n",
    "\n",
    "#Start with (State, Obs) pair (F,D) = (0,1)\n",
    "states = [np.array([0,1])]\n",
    "len_seq = 300\n",
    "for i in range(len_seq):\n",
    "    current_state = states[-1]\n",
    "    z = current_state[0]\n",
    "    x = current_state[1]\n",
    "    \n",
    "    z_t1_probs = trans_model[:,z]\n",
    "    z_t1 = np.random.choice([0,1],1,p=z_t1_probs)[0]\n",
    "\n",
    "    x_t1_probs = obs_model[z_t1]\n",
    "    x_t1 = np.random.choice(np.arange(obs_model.shape[1]),1,p=x_t1_probs)[0]\n",
    "    \n",
    "    states.append(np.array([z_t1,x_t1]))\n",
    "    \n",
    "states = np.array(states)"
   ]
  },
  {
   "cell_type": "code",
   "execution_count": 71,
   "metadata": {
    "scrolled": true
   },
   "outputs": [
    {
     "data": {
      "text/plain": [
       "array([[0, 1],\n",
       "       [0, 3],\n",
       "       [0, 2],\n",
       "       [0, 0],\n",
       "       [0, 5],\n",
       "       [0, 3],\n",
       "       [0, 4],\n",
       "       [0, 4],\n",
       "       [1, 5],\n",
       "       [1, 1]])"
      ]
     },
     "execution_count": 71,
     "metadata": {},
     "output_type": "execute_result"
    }
   ],
   "source": [
    "#states = np.array([[0,0], [0,2], [0,2], [0,1], [0,2], [0,3]])\n",
    "states[:10]"
   ]
  },
  {
   "cell_type": "code",
   "execution_count": 72,
   "metadata": {},
   "outputs": [
    {
     "data": {
      "image/png": "[encoded data removed]",
      "text/plain": [
       "<matplotlib.figure.Figure at 0x7f155783d898>"
      ]
     },
     "metadata": {},
     "output_type": "display_data"
    },
    {
     "data": {
      "image/png": "[encoded data removed]",
      "text/plain": [
       "<matplotlib.figure.Figure at 0x7f1557829748>"
      ]
     },
     "metadata": {},
     "output_type": "display_data"
    }
   ],
   "source": [
    "plt.plot(np.arange(len(states)),states[:,1],drawstyle='steps-pre')\n",
    "plt.show()\n",
    "plt.plot(np.arange(len(states)),states[:,0],drawstyle='steps-pre')\n",
    "plt.show()"
   ]
  },
  {
   "cell_type": "code",
   "execution_count": 73,
   "metadata": {
    "collapsed": true
   },
   "outputs": [],
   "source": [
    "#Forwards algorithm\n",
    "#We want to compute p(z_t | x_1:t) propto p(z_t | z_t-1)\n",
    "\n",
    "#beliefs are for z_t = {0,1}\n",
    "#beliefs = [np.array([0,1])]\n",
    "#beliefs = [obs_model[states[0][1]] * [.5, .5]]\n",
    "beliefs = [np.array([1,1])]\n",
    "\n",
    "for current_time in range(states.shape[0]):\n",
    "    pred_density = np.dot(trans_model.T, beliefs[-1])\n",
    "    current_state = states[current_time]\n",
    "    #print(pred_density, current_state[1])\n",
    "    new_belief = obs_model[:,current_state[1]] * pred_density\n",
    "    \n",
    "    if current_time == 0:\n",
    "        new_belief = new_belief * pi\n",
    "    new_belief = new_belief/sum(new_belief)\n",
    "    beliefs.append(new_belief)\n",
    "    \n",
    "beliefs = np.array(beliefs)[1:]"
   ]
  },
  {
   "cell_type": "code",
   "execution_count": 74,
   "metadata": {
    "scrolled": true
   },
   "outputs": [
    {
     "data": {
      "text/plain": [
       "array([[0.625     , 0.375     ],\n",
       "       [0.73003576, 0.26996424],\n",
       "       [0.81102956, 0.18897044],\n",
       "       [0.86944344, 0.13055656],\n",
       "       [0.66795752, 0.33204248],\n",
       "       [0.76391327, 0.23608673],\n",
       "       [0.83586957, 0.16413043],\n",
       "       [0.8867046 , 0.1132954 ],\n",
       "       [0.70020503, 0.29979497],\n",
       "       [0.78865268, 0.21134732]])"
      ]
     },
     "execution_count": 74,
     "metadata": {},
     "output_type": "execute_result"
    }
   ],
   "source": [
    "np.set_printoptions(suppress=True)\n",
    "beliefs[:10]"
   ]
  },
  {
   "cell_type": "code",
   "execution_count": 76,
   "metadata": {},
   "outputs": [
    {
     "data": {
      "image/png": "[encoded data removed]",
      "text/plain": [
       "<matplotlib.figure.Figure at 0x7f15577e75f8>"
      ]
     },
     "metadata": {},
     "output_type": "display_data"
    }
   ],
   "source": [
    "plt.plot(np.arange(len(beliefs)),beliefs[:,1])\n",
    "#plt.show()\n",
    "plt.plot(np.arange(len(states)),states[:,0],drawstyle='steps-pre')\n",
    "plt.show()"
   ]
  },
  {
   "cell_type": "code",
   "execution_count": 77,
   "metadata": {},
   "outputs": [
    {
     "data": {
      "text/plain": [
       "0.8133333333333334"
      ]
     },
     "execution_count": 77,
     "metadata": {},
     "output_type": "execute_result"
    }
   ],
   "source": [
    "sum((beliefs[:,1] > .5) == states[:,0])/len_seq"
   ]
  },
  {
   "cell_type": "code",
   "execution_count": 78,
   "metadata": {
    "collapsed": true
   },
   "outputs": [],
   "source": [
    "### Forward Backward for smoothing\n",
    "#Key idea is to break into past & future\n",
    "#p(z_t | x_1:T) propto p(z_t = j | x_1:t) * p(x_{t+1}:T | z_t = j)\n",
    "#The first term is our belief state at time t, the second is our\n",
    "#conditional likelihood of future evidence given hidden state.\n",
    "\n",
    "conditional_likelihoods = [np.array([1,1])]\n",
    "\n",
    "beliefs = [np.array([1,1])]\n",
    "\n",
    "for current_time in range(states.shape[0]):\n",
    "    pred_density = np.dot(trans_model.T, beliefs[-1])\n",
    "    current_state = states[current_time]\n",
    "    #print(pred_density, current_state[1])\n",
    "    new_belief = obs_model[:,current_state[1]] * pred_density\n",
    "    \n",
    "    if current_time == 0:\n",
    "        new_belief = new_belief * pi\n",
    "    #new_belief = new_belief/sum(new_belief)\n",
    "    beliefs.append(new_belief)\n",
    "    \n",
    "beliefs = np.array(beliefs)\n",
    "\n",
    "#calculate conditional likelihood (right->left)\n",
    "for current_time in reversed(range(states.shape[0])):\n",
    "    #get beta_t\n",
    "    current_conditional_likelihood = conditional_likelihoods[-1]\n",
    "    current_state = states[current_time]\n",
    "    past_conditional_likelihood = np.dot(trans_model,obs_model[:,current_state[1]] * current_conditional_likelihood)\n",
    "    #past_conditional_likelihood = past_conditional_likelihood/ np.sum(past_conditional_likelihood)\n",
    "    conditional_likelihoods.append(past_conditional_likelihood)\n",
    "\n",
    "conditional_likelihoods = np.array(list(reversed(conditional_likelihoods)))\n",
    "\n",
    "gamma = conditional_likelihoods * beliefs\n",
    "gamma = gamma / np.sum(gamma,axis=1)[:,None]\n",
    "gamma = gamma[1:]"
   ]
  },
  {
   "cell_type": "code",
   "execution_count": 79,
   "metadata": {
    "scrolled": true
   },
   "outputs": [
    {
     "data": {
      "text/plain": [
       "array([[0., 0.],\n",
       "       [0., 0.],\n",
       "       [0., 0.],\n",
       "       [0., 0.],\n",
       "       [0., 0.],\n",
       "       [0., 0.],\n",
       "       [0., 0.],\n",
       "       [0., 0.],\n",
       "       [0., 0.],\n",
       "       [0., 0.]])"
      ]
     },
     "execution_count": 79,
     "metadata": {},
     "output_type": "execute_result"
    }
   ],
   "source": [
    "conditional_likelihoods[:10]"
   ]
  },
  {
   "cell_type": "code",
   "execution_count": 80,
   "metadata": {
    "scrolled": true
   },
   "outputs": [
    {
     "data": {
      "text/plain": [
       "array([[0.37013933, 0.62986067],\n",
       "       [0.37108666, 0.62891334],\n",
       "       [0.36098783, 0.63901217],\n",
       "       [0.33755207, 0.66244793],\n",
       "       [0.29546328, 0.70453672],\n",
       "       [0.28865639, 0.71134361],\n",
       "       [0.26986723, 0.73013277],\n",
       "       [0.23483373, 0.76516627],\n",
       "       [0.17560899, 0.82439101],\n",
       "       [0.15976382, 0.84023618]])"
      ]
     },
     "execution_count": 80,
     "metadata": {},
     "output_type": "execute_result"
    }
   ],
   "source": [
    "gamma[:10]"
   ]
  },
  {
   "cell_type": "code",
   "execution_count": 81,
   "metadata": {},
   "outputs": [
    {
     "data": {
      "image/png": "[encoded data removed]",
      "text/plain": [
       "<matplotlib.figure.Figure at 0x7f15578a3a90>"
      ]
     },
     "metadata": {},
     "output_type": "display_data"
    }
   ],
   "source": [
    "plt.plot(np.arange(len(gamma)),gamma[:,1])\n",
    "#plt.show()\n",
    "plt.plot(np.arange(len(states)),states[:,0],drawstyle='steps-pre')\n",
    "plt.show()"
   ]
  },
  {
   "cell_type": "code",
   "execution_count": 83,
   "metadata": {},
   "outputs": [
    {
     "data": {
      "text/plain": [
       "0.9066666666666666"
      ]
     },
     "execution_count": 83,
     "metadata": {},
     "output_type": "execute_result"
    }
   ],
   "source": [
    "sum((gamma[:,1] > .5) == states[:,0])/len_seq"
   ]
  },
  {
   "cell_type": "code",
   "execution_count": 84,
   "metadata": {
    "collapsed": true
   },
   "outputs": [],
   "source": [
    "#Viterbi Algorithm to find the most likely path\n",
    "#We want delta_t(j) = max_{z_1 .. z_t} p(z_1:t-1, z_t = j | x_1:t)\n",
    "\n",
    "num_states = 2\n",
    "T1 = np.zeros((num_states, states.shape[0]))\n",
    "T2 = np.zeros((num_states, states.shape[0]))\n",
    "\n",
    "for i in range(num_states):\n",
    "    T1[i,0] = pi[i] * obs_model[i,states[0][1]]\n",
    "    T2[i,0] = 0\n",
    "    \n",
    "for i in range(1,states.shape[0]):\n",
    "    for j in range(num_states):\n",
    "        T1[j,i] = np.max(T1[:,i-1] * trans_model[:,j] * obs_model[j,states[i][1]])\n",
    "        T2[j,i] = np.argmax(T1[:,i-1] * trans_model[:,j] * obs_model[j,states[i][1]] )\n",
    "        \n",
    "z = np.zeros((states.shape[0]),dtype=np.int32)\n",
    "z[-1] = np.argmax(T1[:,-1])\n",
    "x = np.zeros((states.shape[0]),dtype=np.int32)\n",
    "x[-1] = z[-1]\n",
    "\n",
    "for i in range(states.shape[0]-1,0,-1):\n",
    "    z[i-1] = T2[z[i],i]\n",
    "    x[i-1] = z[i-1]\n",
    "    \n",
    "#return x"
   ]
  },
  {
   "cell_type": "code",
   "execution_count": 85,
   "metadata": {},
   "outputs": [
    {
     "data": {
      "text/plain": [
       "array([1, 1, 1, 1, 1, 1, 1, 1, 1, 1, 1, 1, 1, 1, 1, 1, 1, 1, 1, 1, 1, 1,\n",
       "       1, 1, 1, 1, 1, 1, 1, 1, 1, 1, 1, 1, 1, 1, 1, 1, 1, 1, 1, 1, 1, 1,\n",
       "       1, 1, 1, 1, 1, 1, 1, 1, 1, 1, 1, 1, 1, 1, 1, 1, 1, 1, 1, 1, 1, 1,\n",
       "       1, 1, 1, 1, 1, 1, 1, 1, 1, 1, 1, 1, 1, 1, 1, 1, 1, 1, 1, 1, 1, 1,\n",
       "       1, 1, 1, 1, 1, 1, 1, 1, 1, 1, 1, 1, 1, 1, 1, 1, 1, 1, 1, 1, 1, 1,\n",
       "       1, 1, 1, 1, 1, 1, 1, 1, 1, 1, 1, 1, 1, 1, 1, 1, 1, 1, 1, 1, 1, 1,\n",
       "       1, 1, 1, 1, 1, 1, 1, 1, 1, 1, 1, 1, 1, 1, 1, 1, 1, 1, 1, 1, 1, 1,\n",
       "       1, 1, 1, 1, 1, 1, 1, 1, 1, 1, 1, 1, 1, 1, 1, 1, 1, 1, 1, 1, 1, 1,\n",
       "       1, 1, 1, 1, 1, 1, 1, 1, 1, 1, 1, 1, 1, 1, 1, 1, 1, 1, 1, 1, 1, 1,\n",
       "       1, 1, 1, 1, 1, 1, 1, 1, 1, 1, 1, 1, 1, 1, 1, 1, 1, 1, 1, 1, 1, 1,\n",
       "       1, 1, 1, 1, 1, 1, 1, 1, 1, 1, 1, 1, 1, 1, 1, 1, 1, 1, 1, 1, 1, 1,\n",
       "       1, 1, 1, 1, 1, 1, 1, 1, 1, 1, 1, 1, 1, 1, 1, 1, 1, 1, 1, 1, 1, 1,\n",
       "       1, 1, 1, 1, 1, 1, 1, 1, 1, 1, 1, 1, 1, 1, 1, 1, 1, 1, 1, 1, 1, 1,\n",
       "       1, 1, 1, 1, 1, 1, 1, 1, 1, 1, 1, 1, 1, 1, 1], dtype=int32)"
      ]
     },
     "execution_count": 85,
     "metadata": {},
     "output_type": "execute_result"
    }
   ],
   "source": [
    "x"
   ]
  },
  {
   "cell_type": "code",
   "execution_count": 86,
   "metadata": {},
   "outputs": [
    {
     "data": {
      "text/plain": [
       "0.76"
      ]
     },
     "execution_count": 86,
     "metadata": {},
     "output_type": "execute_result"
    }
   ],
   "source": [
    "sum(x == states[:,0])/len_seq"
   ]
  },
  {
   "cell_type": "code",
   "execution_count": null,
   "metadata": {
    "collapsed": true
   },
   "outputs": [],
   "source": []
  }
 ],
 "metadata": {
  "kernelspec": {
   "display_name": "Python 3",
   "language": "python",
   "name": "python3"
  },
  "language_info": {
   "codemirror_mode": {
    "name": "ipython",
    "version": 3
   },
   "file_extension": ".py",
   "mimetype": "text/x-python",
   "name": "python",
   "nbconvert_exporter": "python",
   "pygments_lexer": "ipython3",
   "version": "3.5.4"
  }
 },
 "nbformat": 4,
 "nbformat_minor": 2
}
